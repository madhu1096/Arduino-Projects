{
  "nbformat": 4,
  "nbformat_minor": 0,
  "metadata": {
    "colab": {
      "name": "Python_training.ipynb",
      "provenance": [],
      "collapsed_sections": [],
      "authorship_tag": "ABX9TyPu6+tk7FAcAJBc3CIH3rM8",
      "include_colab_link": true
    },
    "kernelspec": {
      "name": "python3",
      "display_name": "Python 3"
    },
    "language_info": {
      "name": "python"
    }
  },
  "cells": [
    {
      "cell_type": "markdown",
      "metadata": {
        "id": "view-in-github",
        "colab_type": "text"
      },
      "source": [
        "<a href=\"https://colab.research.google.com/github/madhu1096/Arduino-Projects/blob/master/Python_training.ipynb\" target=\"_parent\"><img src=\"https://colab.research.google.com/assets/colab-badge.svg\" alt=\"Open In Colab\"/></a>"
      ]
    },
    {
      "cell_type": "markdown",
      "metadata": {
        "id": "uRkJ3K-MIOH0"
      },
      "source": [
        "#Basics"
      ]
    },
    {
      "cell_type": "code",
      "metadata": {
        "id": "9Lh6niA0KsmH"
      },
      "source": [
        "int()\n",
        "float()\n",
        "str()\n",
        "list()\n",
        "set()\n"
      ],
      "execution_count": null,
      "outputs": []
    },
    {
      "cell_type": "code",
      "metadata": {
        "colab": {
          "base_uri": "https://localhost:8080/"
        },
        "id": "a_Y8qLIkKdT_",
        "outputId": "8f56fb84-71b4-406a-cb35-a1781bfe3b91"
      },
      "source": [
        "a=2.0\n",
        "b=str(a)\n",
        "print(type(b),b)"
      ],
      "execution_count": 1,
      "outputs": [
        {
          "output_type": "stream",
          "text": [
            "<class 'str'> 2.0\n"
          ],
          "name": "stdout"
        }
      ]
    },
    {
      "cell_type": "code",
      "metadata": {
        "colab": {
          "base_uri": "https://localhost:8080/"
        },
        "id": "x1vj5QmDNZuV",
        "outputId": "5dff3a1a-321c-4181-9a19-c53e180098db"
      },
      "source": [
        "f = [[[1,2], \"banana\", \"cherry\"],\n",
        "     [\"apple\", \"banana\", \"cherry\"],\n",
        "     [\"apple\", \"banana\", \"cherry\"],\n",
        "     [\"apple\", \"banana\", \"cherry\"]]\n",
        "print(type(f[0][0]))\n",
        "print(f[0][0])"
      ],
      "execution_count": null,
      "outputs": [
        {
          "output_type": "stream",
          "text": [
            "<class 'list'>\n",
            "[1, 2]\n"
          ],
          "name": "stdout"
        }
      ]
    },
    {
      "cell_type": "code",
      "metadata": {
        "colab": {
          "base_uri": "https://localhost:8080/"
        },
        "id": "Z4iTz45HQjck",
        "outputId": "2dfb838c-15f2-4731-eb49-c6ef6949aa65"
      },
      "source": [
        "fruits = [2,2.0, \"banana\", \"cherry\"]\n",
        "print(type(fruits[1]))"
      ],
      "execution_count": 6,
      "outputs": [
        {
          "output_type": "stream",
          "text": [
            "<class 'float'>\n"
          ],
          "name": "stdout"
        }
      ]
    },
    {
      "cell_type": "code",
      "metadata": {
        "id": "6Zv9g5biMOeN"
      },
      "source": [
        "print('there are {a} {b} trees'.format(a=5,b=6))"
      ],
      "execution_count": null,
      "outputs": []
    },
    {
      "cell_type": "markdown",
      "metadata": {
        "id": "tQyanquaIeBA"
      },
      "source": [
        "#Data types\n"
      ]
    },
    {
      "cell_type": "code",
      "metadata": {
        "id": "ID_tKFWaIlvE"
      },
      "source": [
        "a=((stud1,10),())"
      ],
      "execution_count": null,
      "outputs": []
    },
    {
      "cell_type": "code",
      "metadata": {
        "id": "WsMqS1UaIoG_",
        "colab": {
          "base_uri": "https://localhost:8080/"
        },
        "outputId": "c4e54772-3858-4f02-8945-1ea27a323f86"
      },
      "source": [
        "inp = input()\n",
        "print(inp)"
      ],
      "execution_count": null,
      "outputs": [
        {
          "output_type": "stream",
          "text": [
            "bbbaaaadddddd\n",
            "bbbaaaadddddd\n"
          ],
          "name": "stdout"
        }
      ]
    },
    {
      "cell_type": "code",
      "metadata": {
        "colab": {
          "base_uri": "https://localhost:8080/"
        },
        "id": "h1PTclCXO7Im",
        "outputId": "bdd7a562-ab80-4ff4-bac6-4ba3120e5cd0"
      },
      "source": [
        "a"
      ],
      "execution_count": null,
      "outputs": [
        {
          "output_type": "execute_result",
          "data": {
            "text/plain": [
              "['a', 'a', 'a', 'a', 'a', 'b', 'b', 'b', 'b', 'c', 'c', 'c']"
            ]
          },
          "metadata": {
            "tags": []
          },
          "execution_count": 74
        }
      ]
    },
    {
      "cell_type": "code",
      "metadata": {
        "colab": {
          "base_uri": "https://localhost:8080/",
          "height": 35
        },
        "id": "XA6hmV8rQR9t",
        "outputId": "e3b697b2-66da-4761-d00a-834f8314bfae"
      },
      "source": [
        "a=[]\n",
        "for i in inp:\n",
        "  a.append(i)\n",
        "b=set(a)\n",
        "b=list(b)\n",
        "temp=''\n",
        "for i in range(0,len(b)):\n",
        "  temp=temp+b[i]\n",
        "  z=a.count(b[i])\n",
        "  temp=temp+str(z)\n",
        "temp"
      ],
      "execution_count": null,
      "outputs": [
        {
          "output_type": "execute_result",
          "data": {
            "application/vnd.google.colaboratory.intrinsic+json": {
              "type": "string"
            },
            "text/plain": [
              "'b3d6a4'"
            ]
          },
          "metadata": {
            "tags": []
          },
          "execution_count": 83
        }
      ]
    },
    {
      "cell_type": "code",
      "metadata": {
        "colab": {
          "base_uri": "https://localhost:8080/"
        },
        "id": "p0nBgxOJbhFh",
        "outputId": "62d3a855-eb10-410c-abb1-37fcd4c4028d"
      },
      "source": [
        "def compressedString(message):\n",
        "  a=[]\n",
        "  for i in message:\n",
        "    a.append(i)\n",
        "  count=1\n",
        "  temp=''\n",
        "  for i in range(1,len(message)):\n",
        "    if a[i]!=a[i-1]:\n",
        "      temp=temp+a[i-1]\n",
        "      if count > 1: \n",
        "        temp=temp+str(count)\n",
        "      count=1\n",
        "    else:\n",
        "      count=count+1\n",
        "    if i>=(len(message)-1):\n",
        "      temp=temp+a[i]\n",
        "      if count > 1: \n",
        "        temp=temp+str(count)\n",
        "  return temp\n",
        "\n",
        "print(compressedString('abb'))"
      ],
      "execution_count": null,
      "outputs": [
        {
          "output_type": "stream",
          "text": [
            "ab2\n"
          ],
          "name": "stdout"
        }
      ]
    },
    {
      "cell_type": "code",
      "metadata": {
        "colab": {
          "base_uri": "https://localhost:8080/"
        },
        "id": "pofa4f2ccLm0",
        "outputId": "ad8ef194-9397-45ab-a962-2cc605479491"
      },
      "source": [
        "print(compressedString('aaaabbbcc'))"
      ],
      "execution_count": null,
      "outputs": [
        {
          "output_type": "stream",
          "text": [
            "a4b3\n"
          ],
          "name": "stdout"
        }
      ]
    },
    {
      "cell_type": "code",
      "metadata": {
        "colab": {
          "base_uri": "https://localhost:8080/",
          "height": 35
        },
        "id": "TnKmCmekZA8q",
        "outputId": "19d8a965-2284-4430-cc74-6834271874de"
      },
      "source": [
        "count=1\n",
        "temp=''\n",
        "for i in range(1,len(inp)):\n",
        "  if a[i]!=a[i-1]:\n",
        "    temp=temp+a[i-1]\n",
        "    temp=temp+str(count)\n",
        "    count=1\n",
        "  else:\n",
        "    count=count+1\n",
        "  if i>=(len(inp)-1):\n",
        "    temp=temp+a[i-1]\n",
        "    temp=temp+str(count)\n",
        "temp"
      ],
      "execution_count": null,
      "outputs": [
        {
          "output_type": "execute_result",
          "data": {
            "application/vnd.google.colaboratory.intrinsic+json": {
              "type": "string"
            },
            "text/plain": [
              "'b3a4d6'"
            ]
          },
          "metadata": {
            "tags": []
          },
          "execution_count": 84
        }
      ]
    },
    {
      "cell_type": "code",
      "metadata": {
        "id": "PHGeWqz9MtUQ"
      },
      "source": [
        "length=len(inp)\n",
        "count=0\n",
        "temp=''\n",
        "for i in range(0,len(inp)):\n",
        "  j=i+1 \n",
        "  a=inp[i]\n",
        "  b=inp[j]\n",
        "  if a == b:\n",
        "   while 1:\n",
        "    ii=j \n",
        "    if inp[i]==inp[ii]:\n",
        "      coun=count+1\n",
        "      ii=ii+1\n",
        "    else:\n",
        "      break;\n",
        "temp\n",
        "\n",
        "  \n"
      ],
      "execution_count": null,
      "outputs": []
    },
    {
      "cell_type": "code",
      "metadata": {
        "colab": {
          "base_uri": "https://localhost:8080/",
          "height": 35
        },
        "id": "51INXxVzOlAv",
        "outputId": "cc60c741-5b53-4447-c51b-502a0ca5333c"
      },
      "source": [
        "temp"
      ],
      "execution_count": null,
      "outputs": [
        {
          "output_type": "execute_result",
          "data": {
            "application/vnd.google.colaboratory.intrinsic+json": {
              "type": "string"
            },
            "text/plain": [
              "'aaaaabbbbccc'"
            ]
          },
          "metadata": {
            "tags": []
          },
          "execution_count": 6
        }
      ]
    },
    {
      "cell_type": "code",
      "metadata": {
        "colab": {
          "base_uri": "https://localhost:8080/"
        },
        "id": "Dg43yVzdL9PW",
        "outputId": "43cb521f-d0a8-4ca0-fa1c-ff3afb3104f4"
      },
      "source": [
        "a=(1,2,'a')\n",
        "type(a)"
      ],
      "execution_count": 9,
      "outputs": [
        {
          "output_type": "execute_result",
          "data": {
            "text/plain": [
              "tuple"
            ]
          },
          "metadata": {
            "tags": []
          },
          "execution_count": 9
        }
      ]
    },
    {
      "cell_type": "code",
      "metadata": {
        "colab": {
          "base_uri": "https://localhost:8080/"
        },
        "id": "1Gm3SAauMlR5",
        "outputId": "a37369c9-a1cc-42b2-c1fd-fe22e60f85cb"
      },
      "source": [
        "b=[1,2,3,4]\n",
        "print(b)\n",
        "b.pop(3)\n",
        "print(b)\n"
      ],
      "execution_count": 74,
      "outputs": [
        {
          "output_type": "stream",
          "text": [
            "[1, 2, 3, 4]\n",
            "[1, 2, 3]\n"
          ],
          "name": "stdout"
        }
      ]
    },
    {
      "cell_type": "code",
      "metadata": {
        "colab": {
          "base_uri": "https://localhost:8080/"
        },
        "id": "FtsK0mzbM-Zm",
        "outputId": "784d340c-4caa-4964-b88e-f3730b047fdf"
      },
      "source": [
        "b[1]=7\n",
        "print(b)"
      ],
      "execution_count": 18,
      "outputs": [
        {
          "output_type": "stream",
          "text": [
            "[1, 7, 3, 4]\n"
          ],
          "name": "stdout"
        }
      ]
    },
    {
      "cell_type": "code",
      "metadata": {
        "id": "1tnmRzk9NGkH"
      },
      "source": [
        "a=(1,2,'a')\n",
        "a[3]=7\n",
        "print(a)"
      ],
      "execution_count": null,
      "outputs": []
    },
    {
      "cell_type": "code",
      "metadata": {
        "id": "_AOcVk78NapY"
      },
      "source": [
        "for i in range(0,10,-2):\n",
        "  print(i)"
      ],
      "execution_count": 34,
      "outputs": []
    },
    {
      "cell_type": "code",
      "metadata": {
        "colab": {
          "base_uri": "https://localhost:8080/"
        },
        "id": "7q-1hThoQ5vD",
        "outputId": "f67617a1-54be-4351-a017-64d6e862f9f4"
      },
      "source": [
        "c={'madhu':{'emp':1,'sal':100,'doj':1998}}\n",
        "a=[1,2,3,[1,2,3]]\n",
        "a[3][2]"
      ],
      "execution_count": 125,
      "outputs": [
        {
          "output_type": "execute_result",
          "data": {
            "text/plain": [
              "3"
            ]
          },
          "metadata": {
            "tags": []
          },
          "execution_count": 125
        }
      ]
    },
    {
      "cell_type": "code",
      "metadata": {
        "colab": {
          "base_uri": "https://localhost:8080/"
        },
        "id": "JSA60aumZWXI",
        "outputId": "bfb21219-3501-4df7-cb3a-66e857f6a07d"
      },
      "source": [
        "c['madhu']['sal']"
      ],
      "execution_count": 123,
      "outputs": [
        {
          "output_type": "execute_result",
          "data": {
            "text/plain": [
              "100"
            ]
          },
          "metadata": {
            "tags": []
          },
          "execution_count": 123
        }
      ]
    },
    {
      "cell_type": "code",
      "metadata": {
        "id": "gceLUiUqPSgB"
      },
      "source": [
        "c={\n",
        "   'madhu':200,\n",
        "   'santhosh':200,\n",
        "   'Ram':400\n",
        "   }"
      ],
      "execution_count": 111,
      "outputs": []
    },
    {
      "cell_type": "code",
      "metadata": {
        "colab": {
          "base_uri": "https://localhost:8080/"
        },
        "id": "hjlr7iRVXLjo",
        "outputId": "2f5ac4b1-1cbc-4258-ce61-e99c340c7d98"
      },
      "source": [
        "e = c\n",
        "print(e)"
      ],
      "execution_count": 113,
      "outputs": [
        {
          "output_type": "stream",
          "text": [
            "{'madhu': 200, 'santhosh': 200, 'Ram': 400}\n"
          ],
          "name": "stdout"
        }
      ]
    },
    {
      "cell_type": "code",
      "metadata": {
        "colab": {
          "base_uri": "https://localhost:8080/"
        },
        "id": "MXykwXZBY8q0",
        "outputId": "d809703a-c8e3-4ed8-b084-d569087b70d8"
      },
      "source": [
        "print(e)"
      ],
      "execution_count": 114,
      "outputs": [
        {
          "output_type": "stream",
          "text": [
            "{'madhu': 200, 'santhosh': 200, 'Ram': 400}\n"
          ],
          "name": "stdout"
        }
      ]
    },
    {
      "cell_type": "code",
      "metadata": {
        "colab": {
          "base_uri": "https://localhost:8080/"
        },
        "id": "6rQYNuSMW0J4",
        "outputId": "313cf925-70c8-4474-86ec-1d44979d9677"
      },
      "source": [
        "for x, y in c.items():\n",
        "  print(x, y)"
      ],
      "execution_count": 93,
      "outputs": [
        {
          "output_type": "stream",
          "text": [
            "madhu 200\n",
            "santhosh 200\n",
            "Ram 300\n"
          ],
          "name": "stdout"
        }
      ]
    },
    {
      "cell_type": "code",
      "metadata": {
        "id": "ECfNMvHVXlzh"
      },
      "source": [
        "c=[1,2,3,4,5]"
      ],
      "execution_count": 97,
      "outputs": []
    },
    {
      "cell_type": "code",
      "metadata": {
        "colab": {
          "base_uri": "https://localhost:8080/"
        },
        "id": "TsDybPe2XU1J",
        "outputId": "ee9fab9b-bf37-4691-fd12-0a67fe6db056"
      },
      "source": [
        "for a,b in enumerate(c):\n",
        "  print(a,b)\n",
        "\n",
        "for i in c:\n",
        "  print(i)"
      ],
      "execution_count": 101,
      "outputs": [
        {
          "output_type": "stream",
          "text": [
            "0 1\n",
            "1 2\n",
            "2 3\n",
            "3 4\n",
            "4 5\n",
            "1\n",
            "2\n",
            "3\n",
            "4\n",
            "5\n"
          ],
          "name": "stdout"
        }
      ]
    },
    {
      "cell_type": "code",
      "metadata": {
        "colab": {
          "base_uri": "https://localhost:8080/"
        },
        "id": "HFmG0XE5P6vR",
        "outputId": "d414aa27-9941-41fc-9eb1-f59a2b1f41d8"
      },
      "source": [
        "print(type(c))\n",
        "c['madhu']=300"
      ],
      "execution_count": 60,
      "outputs": [
        {
          "output_type": "stream",
          "text": [
            "<class 'dict'>\n"
          ],
          "name": "stdout"
        }
      ]
    },
    {
      "cell_type": "code",
      "metadata": {
        "colab": {
          "base_uri": "https://localhost:8080/"
        },
        "id": "Yt1JlHrOP_xx",
        "outputId": "0a53e8a0-5e33-442d-affd-1c9fd3271abd"
      },
      "source": [
        "print(c.keys())\n",
        "print(c.values())  \n",
        "print(c['madhu'])\n",
        "print(c.get('Ram'))\n",
        "print(c)\n",
        "print(c.update({'madhu':100}))\n",
        "print(c)\n",
        "c['karthick']=400\n",
        "print(c)\n",
        "c.pop('karthick')\n",
        "print(c)\n",
        "c['teja']=500\n",
        "print(c)\n",
        "c.popitem()\n",
        "print(c)\n",
        "a=[1,2,3,4]\n",
        "print(a)\n",
        "a=[]\n",
        "print(a)\n",
        "c.clear()\n",
        "print(c)"
      ],
      "execution_count": 81,
      "outputs": [
        {
          "output_type": "stream",
          "text": [
            "dict_keys(['madhu', 'santhosh', 'Ram'])\n",
            "dict_values([100, 200, 300])\n",
            "100\n",
            "300\n",
            "{'madhu': 100, 'santhosh': 200, 'Ram': 300}\n",
            "None\n",
            "{'madhu': 100, 'santhosh': 200, 'Ram': 300}\n",
            "{'madhu': 100, 'santhosh': 200, 'Ram': 300, 'karthick': 400}\n",
            "{'madhu': 100, 'santhosh': 200, 'Ram': 300}\n",
            "{'madhu': 100, 'santhosh': 200, 'Ram': 300, 'teja': 500}\n",
            "{'madhu': 100, 'santhosh': 200, 'Ram': 300}\n",
            "[1, 2, 3, 4]\n",
            "[]\n",
            "{}\n"
          ],
          "name": "stdout"
        }
      ]
    },
    {
      "cell_type": "code",
      "metadata": {
        "id": "HUbuzUNwWGpT"
      },
      "source": [
        "for i in range(0,2):\n",
        "  print('hi')\n",
        "print('bye')"
      ],
      "execution_count": null,
      "outputs": []
    },
    {
      "cell_type": "code",
      "metadata": {
        "id": "MXFRBBOSYQoK"
      },
      "source": [
        "a=[1,2,3]\n",
        "print(a)\n",
        "b.copy(a)\n",
        "print(b)"
      ],
      "execution_count": null,
      "outputs": []
    },
    {
      "cell_type": "code",
      "metadata": {
        "colab": {
          "base_uri": "https://localhost:8080/",
          "height": 253
        },
        "id": "kbzmdtniVQ-P",
        "outputId": "14afa9fd-18d5-4911-e2b3-c3931ad45760"
      },
      "source": [
        "a=[1,1,1,1]\n",
        "print(a)\n",
        "b={1,1,1,2,2}\n",
        "print(b)"
      ],
      "execution_count": 134,
      "outputs": [
        {
          "output_type": "stream",
          "text": [
            "[1, 1, 1, 1]\n"
          ],
          "name": "stdout"
        },
        {
          "output_type": "error",
          "ename": "TypeError",
          "evalue": "ignored",
          "traceback": [
            "\u001b[0;31m---------------------------------------------------------------------------\u001b[0m",
            "\u001b[0;31mTypeError\u001b[0m                                 Traceback (most recent call last)",
            "\u001b[0;32m<ipython-input-134-cedd32555a54>\u001b[0m in \u001b[0;36m<module>\u001b[0;34m()\u001b[0m\n\u001b[1;32m      2\u001b[0m \u001b[0mprint\u001b[0m\u001b[0;34m(\u001b[0m\u001b[0ma\u001b[0m\u001b[0;34m)\u001b[0m\u001b[0;34m\u001b[0m\u001b[0;34m\u001b[0m\u001b[0m\n\u001b[1;32m      3\u001b[0m \u001b[0mb\u001b[0m\u001b[0;34m=\u001b[0m\u001b[0;34m{\u001b[0m\u001b[0;36m1\u001b[0m\u001b[0;34m,\u001b[0m\u001b[0;36m1\u001b[0m\u001b[0;34m,\u001b[0m\u001b[0;36m1\u001b[0m\u001b[0;34m,\u001b[0m\u001b[0;36m2\u001b[0m\u001b[0;34m,\u001b[0m\u001b[0;36m2\u001b[0m\u001b[0;34m}\u001b[0m\u001b[0;34m\u001b[0m\u001b[0;34m\u001b[0m\u001b[0m\n\u001b[0;32m----> 4\u001b[0;31m \u001b[0mprint\u001b[0m\u001b[0;34m(\u001b[0m\u001b[0mb\u001b[0m\u001b[0;34m(\u001b[0m\u001b[0;36m0\u001b[0m\u001b[0;34m)\u001b[0m\u001b[0;34m)\u001b[0m\u001b[0;34m\u001b[0m\u001b[0;34m\u001b[0m\u001b[0m\n\u001b[0m\u001b[1;32m      5\u001b[0m \u001b[0;34m\u001b[0m\u001b[0m\n\u001b[1;32m      6\u001b[0m \u001b[0;34m\u001b[0m\u001b[0m\n",
            "\u001b[0;31mTypeError\u001b[0m: 'set' object is not callable"
          ]
        }
      ]
    }
  ]
}