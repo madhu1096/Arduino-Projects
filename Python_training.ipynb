{
  "nbformat": 4,
  "nbformat_minor": 0,
  "metadata": {
    "colab": {
      "name": "Python_training.ipynb",
      "provenance": [],
      "collapsed_sections": [],
      "authorship_tag": "ABX9TyPRvoBXdXKMuESSh3faRXmw",
      "include_colab_link": true
    },
    "kernelspec": {
      "name": "python3",
      "display_name": "Python 3"
    },
    "language_info": {
      "name": "python"
    }
  },
  "cells": [
    {
      "cell_type": "markdown",
      "metadata": {
        "id": "view-in-github",
        "colab_type": "text"
      },
      "source": [
        "<a href=\"https://colab.research.google.com/github/madhu1096/Arduino-Projects/blob/master/Python_training.ipynb\" target=\"_parent\"><img src=\"https://colab.research.google.com/assets/colab-badge.svg\" alt=\"Open In Colab\"/></a>"
      ]
    },
    {
      "cell_type": "markdown",
      "metadata": {
        "id": "uRkJ3K-MIOH0"
      },
      "source": [
        "#Basics"
      ]
    },
    {
      "cell_type": "code",
      "metadata": {
        "id": "9Lh6niA0KsmH"
      },
      "source": [
        "int()\n",
        "float()\n",
        "str()\n",
        "list()\n",
        "set()"
      ],
      "execution_count": null,
      "outputs": []
    },
    {
      "cell_type": "code",
      "metadata": {
        "colab": {
          "base_uri": "https://localhost:8080/"
        },
        "id": "a_Y8qLIkKdT_",
        "outputId": "8f56fb84-71b4-406a-cb35-a1781bfe3b91"
      },
      "source": [
        "a=2.0\n",
        "b=str(a)\n",
        "print(type(b),b)"
      ],
      "execution_count": null,
      "outputs": [
        {
          "output_type": "stream",
          "text": [
            "<class 'str'> 2.0\n"
          ],
          "name": "stdout"
        }
      ]
    },
    {
      "cell_type": "code",
      "metadata": {
        "colab": {
          "base_uri": "https://localhost:8080/"
        },
        "id": "x1vj5QmDNZuV",
        "outputId": "5dff3a1a-321c-4181-9a19-c53e180098db"
      },
      "source": [
        "f = [[[1,2], \"banana\", \"cherry\"],\n",
        "     [\"apple\", \"banana\", \"cherry\"],\n",
        "     [\"apple\", \"banana\", \"cherry\"],\n",
        "     [\"apple\", \"banana\", \"cherry\"]]\n",
        "print(type(f[0][0]))\n",
        "print(f[0][0])"
      ],
      "execution_count": null,
      "outputs": [
        {
          "output_type": "stream",
          "text": [
            "<class 'list'>\n",
            "[1, 2]\n"
          ],
          "name": "stdout"
        }
      ]
    },
    {
      "cell_type": "code",
      "metadata": {
        "colab": {
          "base_uri": "https://localhost:8080/"
        },
        "id": "Z4iTz45HQjck",
        "outputId": "2dfb838c-15f2-4731-eb49-c6ef6949aa65"
      },
      "source": [
        "fruits = [2,2.0, \"banana\", \"cherry\"]\n",
        "print(type(fruits[1]))"
      ],
      "execution_count": null,
      "outputs": [
        {
          "output_type": "stream",
          "text": [
            "<class 'float'>\n"
          ],
          "name": "stdout"
        }
      ]
    },
    {
      "cell_type": "code",
      "metadata": {
        "id": "6Zv9g5biMOeN"
      },
      "source": [
        "print('there are {a} {b} trees'.format(a=5,b=6))"
      ],
      "execution_count": null,
      "outputs": []
    },
    {
      "cell_type": "markdown",
      "metadata": {
        "id": "tQyanquaIeBA"
      },
      "source": [
        "#Data types\n"
      ]
    },
    {
      "cell_type": "code",
      "metadata": {
        "id": "ID_tKFWaIlvE"
      },
      "source": [
        "a=((stud1,10),())"
      ],
      "execution_count": null,
      "outputs": []
    },
    {
      "cell_type": "code",
      "metadata": {
        "id": "WsMqS1UaIoG_",
        "colab": {
          "base_uri": "https://localhost:8080/"
        },
        "outputId": "75a6d678-1a2f-4e97-8ffc-a437cfbcf90e"
      },
      "source": [
        "inp = input()\n",
        "print(inp)"
      ],
      "execution_count": 40,
      "outputs": [
        {
          "output_type": "stream",
          "text": [
            "abcdd\n",
            "abcdd\n"
          ],
          "name": "stdout"
        }
      ]
    },
    {
      "cell_type": "code",
      "metadata": {
        "colab": {
          "base_uri": "https://localhost:8080/",
          "height": 35
        },
        "id": "h1PTclCXO7Im",
        "outputId": "d6ba7c6c-acc6-4768-e6d8-698369197b16"
      },
      "source": [
        "inp"
      ],
      "execution_count": 36,
      "outputs": [
        {
          "output_type": "execute_result",
          "data": {
            "application/vnd.google.colaboratory.intrinsic+json": {
              "type": "string"
            },
            "text/plain": [
              "'aaaabbcc'"
            ]
          },
          "metadata": {
            "tags": []
          },
          "execution_count": 36
        }
      ]
    },
    {
      "cell_type": "code",
      "metadata": {
        "colab": {
          "base_uri": "https://localhost:8080/",
          "height": 87
        },
        "id": "XA6hmV8rQR9t",
        "outputId": "584f0894-2622-44de-c350-9348786619dc"
      },
      "source": [
        "a=[]\n",
        "for i in inp:\n",
        "  a.append(i)\n",
        "print(a)\n",
        "b=set(a)\n",
        "print(b)\n",
        "c=list(b)\n",
        "print(c)\n",
        "temp=''\n",
        "for i in range(0,len(c)):\n",
        "  temp=temp+c[i]\n",
        "  z=a.count(c[i])\n",
        "  temp=temp+str(z)\n",
        "temp"
      ],
      "execution_count": 41,
      "outputs": [
        {
          "output_type": "stream",
          "text": [
            "['a', 'b', 'c', 'd', 'd']\n",
            "{'b', 'd', 'c', 'a'}\n",
            "['b', 'd', 'c', 'a']\n"
          ],
          "name": "stdout"
        },
        {
          "output_type": "execute_result",
          "data": {
            "application/vnd.google.colaboratory.intrinsic+json": {
              "type": "string"
            },
            "text/plain": [
              "'b1d2c1a1'"
            ]
          },
          "metadata": {
            "tags": []
          },
          "execution_count": 41
        }
      ]
    },
    {
      "cell_type": "code",
      "metadata": {
        "id": "p0nBgxOJbhFh"
      },
      "source": [
        "def compressedString(message):\n",
        "  a=[]\n",
        "  for i in message:\n",
        "    a.append(i)\n",
        "  count=1\n",
        "  temp=''\n",
        "  for i in range(1,len(message)):\n",
        "    if a[i]!=a[i-1]:\n",
        "      temp=temp+a[i-1]\n",
        "      if count > 1: \n",
        "        temp=temp+str(count)\n",
        "      count=1\n",
        "    else:\n",
        "      count=count+1\n",
        "    if i>=(len(message)-1):\n",
        "      temp=temp+a[i]\n",
        "      if count > 1: \n",
        "        temp=temp+str(count)\n",
        "  return temp"
      ],
      "execution_count": 90,
      "outputs": []
    },
    {
      "cell_type": "code",
      "metadata": {
        "colab": {
          "base_uri": "https://localhost:8080/"
        },
        "id": "pofa4f2ccLm0",
        "outputId": "460235f8-dee2-4c3c-e5ea-bc95853b196f"
      },
      "source": [
        "abc=compressedString('aabbccdd')\n",
        "print(abc)"
      ],
      "execution_count": 91,
      "outputs": [
        {
          "output_type": "stream",
          "text": [
            "a2b2c2d2\n"
          ],
          "name": "stdout"
        }
      ]
    },
    {
      "cell_type": "code",
      "metadata": {
        "colab": {
          "base_uri": "https://localhost:8080/",
          "height": 35
        },
        "id": "TnKmCmekZA8q",
        "outputId": "19d8a965-2284-4430-cc74-6834271874de"
      },
      "source": [
        "count=1\n",
        "temp=''\n",
        "for i in range(1,len(inp)):\n",
        "  if a[i]!=a[i-1]:\n",
        "    temp=temp+a[i-1]\n",
        "    temp=temp+str(count)\n",
        "    count=1\n",
        "  else:\n",
        "    count=count+1\n",
        "  if i>=(len(inp)-1):\n",
        "    temp=temp+a[i-1]\n",
        "    temp=temp+str(count)\n",
        "temp"
      ],
      "execution_count": null,
      "outputs": [
        {
          "output_type": "execute_result",
          "data": {
            "application/vnd.google.colaboratory.intrinsic+json": {
              "type": "string"
            },
            "text/plain": [
              "'b3a4d6'"
            ]
          },
          "metadata": {
            "tags": []
          },
          "execution_count": 84
        }
      ]
    },
    {
      "cell_type": "code",
      "metadata": {
        "id": "PHGeWqz9MtUQ"
      },
      "source": [
        "length=len(inp)\n",
        "count=0\n",
        "temp=''\n",
        "for i in range(0,len(inp)):\n",
        "  j=i+1 \n",
        "  a=inp[i]\n",
        "  b=inp[j]\n",
        "  if a == b:\n",
        "   while 1:\n",
        "    ii=j \n",
        "    if inp[i]==inp[ii]:\n",
        "      coun=count+1\n",
        "      ii=ii+1\n",
        "    else:\n",
        "      break;\n",
        "temp\n",
        "\n",
        "  \n"
      ],
      "execution_count": null,
      "outputs": []
    },
    {
      "cell_type": "code",
      "metadata": {
        "colab": {
          "base_uri": "https://localhost:8080/",
          "height": 35
        },
        "id": "51INXxVzOlAv",
        "outputId": "cc60c741-5b53-4447-c51b-502a0ca5333c"
      },
      "source": [
        "temp"
      ],
      "execution_count": null,
      "outputs": [
        {
          "output_type": "execute_result",
          "data": {
            "application/vnd.google.colaboratory.intrinsic+json": {
              "type": "string"
            },
            "text/plain": [
              "'aaaaabbbbccc'"
            ]
          },
          "metadata": {
            "tags": []
          },
          "execution_count": 6
        }
      ]
    },
    {
      "cell_type": "code",
      "metadata": {
        "colab": {
          "base_uri": "https://localhost:8080/"
        },
        "id": "Dg43yVzdL9PW",
        "outputId": "963159e4-e71e-432a-aca3-1221cf70dad5"
      },
      "source": [
        "a=(1,2,'a')\n",
        "a=(1,2,'a',1)\n",
        "print(a[0])\n",
        "type(a)"
      ],
      "execution_count": 7,
      "outputs": [
        {
          "output_type": "stream",
          "text": [
            "1\n"
          ],
          "name": "stdout"
        },
        {
          "output_type": "execute_result",
          "data": {
            "text/plain": [
              "tuple"
            ]
          },
          "metadata": {
            "tags": []
          },
          "execution_count": 7
        }
      ]
    },
    {
      "cell_type": "code",
      "metadata": {
        "colab": {
          "base_uri": "https://localhost:8080/"
        },
        "id": "1Gm3SAauMlR5",
        "outputId": "d7fa4a4a-3492-430d-8d8a-104e3a0571ae"
      },
      "source": [
        "b=[1,2,3,4]\n",
        "print(b)\n",
        "b.pop(3)\n",
        "print(b)\n"
      ],
      "execution_count": 8,
      "outputs": [
        {
          "output_type": "stream",
          "text": [
            "[1, 2, 3, 4]\n",
            "[1, 2, 3]\n"
          ],
          "name": "stdout"
        }
      ]
    },
    {
      "cell_type": "code",
      "metadata": {
        "colab": {
          "base_uri": "https://localhost:8080/"
        },
        "id": "FtsK0mzbM-Zm",
        "outputId": "5993981f-2c1a-4127-9985-3229cd3fc490"
      },
      "source": [
        "b[1]=7\n",
        "print(b)"
      ],
      "execution_count": 9,
      "outputs": [
        {
          "output_type": "stream",
          "text": [
            "[1, 7, 3]\n"
          ],
          "name": "stdout"
        }
      ]
    },
    {
      "cell_type": "code",
      "metadata": {
        "id": "1tnmRzk9NGkH"
      },
      "source": [
        "a=(1,2,'a')\n",
        "a[3]=7\n",
        "print(a)"
      ],
      "execution_count": null,
      "outputs": []
    },
    {
      "cell_type": "code",
      "metadata": {
        "id": "_AOcVk78NapY"
      },
      "source": [
        "c='abcde'\n",
        "for i in range(0,len(c),2):\n",
        "  print(c[i])"
      ],
      "execution_count": null,
      "outputs": []
    },
    {
      "cell_type": "code",
      "metadata": {
        "colab": {
          "base_uri": "https://localhost:8080/"
        },
        "id": "7q-1hThoQ5vD",
        "outputId": "f67617a1-54be-4351-a017-64d6e862f9f4"
      },
      "source": [
        "c={'madhu':{'emp':1,'sal':100,'doj':1998}}\n",
        "a=[1,2,3,[1,2,3]]\n",
        "a[3][2]"
      ],
      "execution_count": null,
      "outputs": [
        {
          "output_type": "execute_result",
          "data": {
            "text/plain": [
              "3"
            ]
          },
          "metadata": {
            "tags": []
          },
          "execution_count": 125
        }
      ]
    },
    {
      "cell_type": "code",
      "metadata": {
        "colab": {
          "base_uri": "https://localhost:8080/"
        },
        "id": "JSA60aumZWXI",
        "outputId": "bfb21219-3501-4df7-cb3a-66e857f6a07d"
      },
      "source": [
        "c['madhu']['sal']"
      ],
      "execution_count": null,
      "outputs": [
        {
          "output_type": "execute_result",
          "data": {
            "text/plain": [
              "100"
            ]
          },
          "metadata": {
            "tags": []
          },
          "execution_count": 123
        }
      ]
    },
    {
      "cell_type": "code",
      "metadata": {
        "id": "gceLUiUqPSgB"
      },
      "source": [
        "c={\n",
        "   'madhu':200,\n",
        "   'santhosh':200,\n",
        "   'Ram':400\n",
        "   }"
      ],
      "execution_count": 18,
      "outputs": []
    },
    {
      "cell_type": "code",
      "metadata": {
        "colab": {
          "base_uri": "https://localhost:8080/"
        },
        "id": "hjlr7iRVXLjo",
        "outputId": "2f5ac4b1-1cbc-4258-ce61-e99c340c7d98"
      },
      "source": [
        "e = c\n",
        "print(e)"
      ],
      "execution_count": null,
      "outputs": [
        {
          "output_type": "stream",
          "text": [
            "{'madhu': 200, 'santhosh': 200, 'Ram': 400}\n"
          ],
          "name": "stdout"
        }
      ]
    },
    {
      "cell_type": "code",
      "metadata": {
        "colab": {
          "base_uri": "https://localhost:8080/"
        },
        "id": "MXykwXZBY8q0",
        "outputId": "d809703a-c8e3-4ed8-b084-d569087b70d8"
      },
      "source": [
        "print(e)"
      ],
      "execution_count": null,
      "outputs": [
        {
          "output_type": "stream",
          "text": [
            "{'madhu': 200, 'santhosh': 200, 'Ram': 400}\n"
          ],
          "name": "stdout"
        }
      ]
    },
    {
      "cell_type": "code",
      "metadata": {
        "colab": {
          "base_uri": "https://localhost:8080/"
        },
        "id": "6rQYNuSMW0J4",
        "outputId": "313cf925-70c8-4474-86ec-1d44979d9677"
      },
      "source": [
        "for x, y in c.items():\n",
        "  print(x, y)"
      ],
      "execution_count": null,
      "outputs": [
        {
          "output_type": "stream",
          "text": [
            "madhu 200\n",
            "santhosh 200\n",
            "Ram 300\n"
          ],
          "name": "stdout"
        }
      ]
    },
    {
      "cell_type": "code",
      "metadata": {
        "id": "ECfNMvHVXlzh"
      },
      "source": [
        "c=[1,2,3,4,5]"
      ],
      "execution_count": null,
      "outputs": []
    },
    {
      "cell_type": "code",
      "metadata": {
        "colab": {
          "base_uri": "https://localhost:8080/"
        },
        "id": "TsDybPe2XU1J",
        "outputId": "ee9fab9b-bf37-4691-fd12-0a67fe6db056"
      },
      "source": [
        "for a,b in enumerate(c):\n",
        "  print(a,b)\n",
        "\n",
        "for i in c:\n",
        "  print(i)"
      ],
      "execution_count": null,
      "outputs": [
        {
          "output_type": "stream",
          "text": [
            "0 1\n",
            "1 2\n",
            "2 3\n",
            "3 4\n",
            "4 5\n",
            "1\n",
            "2\n",
            "3\n",
            "4\n",
            "5\n"
          ],
          "name": "stdout"
        }
      ]
    },
    {
      "cell_type": "code",
      "metadata": {
        "colab": {
          "base_uri": "https://localhost:8080/"
        },
        "id": "HFmG0XE5P6vR",
        "outputId": "07f44aa4-ad4b-479e-b790-6d0bee80d5b9"
      },
      "source": [
        "print(type(c))\n",
        "c['madhu']=300"
      ],
      "execution_count": 19,
      "outputs": [
        {
          "output_type": "stream",
          "text": [
            "<class 'dict'>\n"
          ],
          "name": "stdout"
        }
      ]
    },
    {
      "cell_type": "code",
      "metadata": {
        "colab": {
          "base_uri": "https://localhost:8080/"
        },
        "id": "Yt1JlHrOP_xx",
        "outputId": "0a53e8a0-5e33-442d-affd-1c9fd3271abd"
      },
      "source": [
        "print(c.keys())\n",
        "print(c.values())  \n",
        "print(c['madhu'])\n",
        "print(c.get('Ram'))\n",
        "print(c)\n",
        "print(c.update({'madhu':100}))\n",
        "print(c)\n",
        "c['karthick']=400\n",
        "print(c)\n",
        "c.pop('karthick')\n",
        "print(c)\n",
        "c['teja']=500\n",
        "print(c)\n",
        "c.popitem()  #delete recent add\n",
        "print(c)\n",
        "a=[1,2,3,4]\n",
        "print(a)\n",
        "a=[]\n",
        "print(a)\n",
        "c.clear()\n",
        "print(c)"
      ],
      "execution_count": null,
      "outputs": [
        {
          "output_type": "stream",
          "text": [
            "dict_keys(['madhu', 'santhosh', 'Ram'])\n",
            "dict_values([100, 200, 300])\n",
            "100\n",
            "300\n",
            "{'madhu': 100, 'santhosh': 200, 'Ram': 300}\n",
            "None\n",
            "{'madhu': 100, 'santhosh': 200, 'Ram': 300}\n",
            "{'madhu': 100, 'santhosh': 200, 'Ram': 300, 'karthick': 400}\n",
            "{'madhu': 100, 'santhosh': 200, 'Ram': 300}\n",
            "{'madhu': 100, 'santhosh': 200, 'Ram': 300, 'teja': 500}\n",
            "{'madhu': 100, 'santhosh': 200, 'Ram': 300}\n",
            "[1, 2, 3, 4]\n",
            "[]\n",
            "{}\n"
          ],
          "name": "stdout"
        }
      ]
    },
    {
      "cell_type": "code",
      "metadata": {
        "id": "HUbuzUNwWGpT"
      },
      "source": [
        "for i in range(0,2):\n",
        "  print('hi')\n",
        "print('bye')"
      ],
      "execution_count": null,
      "outputs": []
    },
    {
      "cell_type": "code",
      "metadata": {
        "id": "MXFRBBOSYQoK"
      },
      "source": [
        "a=[1,2,3]\n",
        "print(a)\n",
        "b=a.copy()\n",
        "print(b)\n",
        "b[0]=7\n",
        "print(a)\n",
        "print(b)"
      ],
      "execution_count": null,
      "outputs": []
    },
    {
      "cell_type": "code",
      "metadata": {
        "colab": {
          "base_uri": "https://localhost:8080/"
        },
        "id": "67VQEeuZ-Bqq",
        "outputId": "1d409697-d612-42a0-b41a-5335f234e0fa"
      },
      "source": [
        "a={2,'a',1,'c'}\n",
        "a.add(\"apple\")\n",
        "print(type(a))\n",
        "print(a)"
      ],
      "execution_count": 60,
      "outputs": [
        {
          "output_type": "stream",
          "text": [
            "<class 'set'>\n",
            "{1, 2, 'apple', 'a', 'c'}\n"
          ],
          "name": "stdout"
        }
      ]
    },
    {
      "cell_type": "code",
      "metadata": {
        "id": "J9Y3uUUPBOiP"
      },
      "source": [
        "thisset = {\"apple\", \"banana\", \"cherry\"}\n",
        "\n",
        "print(\"banana\" in {\"apple\", \"banana\", \"cherry\"})"
      ],
      "execution_count": null,
      "outputs": []
    },
    {
      "cell_type": "code",
      "metadata": {
        "id": "Nib_vxffC76X"
      },
      "source": [
        "list = []\n",
        "dict = {{}}\n",
        "set  = {}\n",
        "tuple = ()"
      ],
      "execution_count": null,
      "outputs": []
    },
    {
      "cell_type": "code",
      "metadata": {
        "colab": {
          "base_uri": "https://localhost:8080/"
        },
        "id": "Grj8tqRQDNph",
        "outputId": "280f1769-125e-49db-bcc9-1a5272617b30"
      },
      "source": [
        "a=[1,2,3]\n",
        "b=set(a)\n",
        "print(type(b))"
      ],
      "execution_count": 61,
      "outputs": [
        {
          "output_type": "stream",
          "text": [
            "<class 'set'>\n"
          ],
          "name": "stdout"
        }
      ]
    },
    {
      "cell_type": "markdown",
      "metadata": {
        "id": "NkCxvRWuDUU6"
      },
      "source": [
        "##IF ELIF"
      ]
    },
    {
      "cell_type": "code",
      "metadata": {
        "colab": {
          "base_uri": "https://localhost:8080/"
        },
        "id": "DAImPibDDYQb",
        "outputId": "1dda4b9c-ec2a-4709-831b-1fab62199e50"
      },
      "source": [
        "a=20\n",
        "b=30\n",
        "\n",
        "if a==b:\n",
        "  print('equal')\n",
        "elif a > b :\n",
        "  print('GT')\n",
        "else:\n",
        "  print('{a} LT {b}'.format(a=a,b=b))\n",
        "  print(str(a)+' LT '+str(b))\n"
      ],
      "execution_count": 69,
      "outputs": [
        {
          "output_type": "stream",
          "text": [
            "20 LT 30\n",
            "20 LT 30\n",
            "aaa\n"
          ],
          "name": "stdout"
        }
      ]
    },
    {
      "cell_type": "code",
      "metadata": {
        "colab": {
          "base_uri": "https://localhost:8080/"
        },
        "id": "MdjKDIPFEr42",
        "outputId": "c9f338be-455b-4bff-fe2d-aaa37726ba8e"
      },
      "source": [
        "a=[i for i in range(0,11) if i%2==0]\n",
        "print(a)"
      ],
      "execution_count": 74,
      "outputs": [
        {
          "output_type": "stream",
          "text": [
            "[0, 2, 4, 6, 8, 10]\n"
          ],
          "name": "stdout"
        }
      ]
    },
    {
      "cell_type": "code",
      "metadata": {
        "id": "1P1ezeYhFj31"
      },
      "source": [
        "i = 1\n",
        "while i < 10:\n",
        "  print(i)\n",
        "  i += 1 \n",
        "else:\n",
        "  print('end')"
      ],
      "execution_count": null,
      "outputs": []
    },
    {
      "cell_type": "code",
      "metadata": {
        "colab": {
          "base_uri": "https://localhost:8080/"
        },
        "id": "4xVHAwGoGQDl",
        "outputId": "ad5bcf0f-8a05-4b98-909a-798f671f03e2"
      },
      "source": [
        "a='madhu'\n",
        "for i in a:\n",
        "  print(i)"
      ],
      "execution_count": 81,
      "outputs": [
        {
          "output_type": "stream",
          "text": [
            "m\n",
            "a\n",
            "d\n",
            "h\n",
            "u\n"
          ],
          "name": "stdout"
        }
      ]
    },
    {
      "cell_type": "code",
      "metadata": {
        "colab": {
          "base_uri": "https://localhost:8080/"
        },
        "id": "SgvVdxcLGrVW",
        "outputId": "7f16cdcb-fb15-4c94-b16e-9065245fa206"
      },
      "source": [
        "for x in range(6):\n",
        "  if x == 3:\n",
        "     continue\n",
        "  print(x)\n",
        "else:\n",
        "  print(\"Finally finished!\")"
      ],
      "execution_count": 83,
      "outputs": [
        {
          "output_type": "stream",
          "text": [
            "0\n",
            "1\n",
            "2\n",
            "4\n",
            "5\n",
            "Finally finished!\n"
          ],
          "name": "stdout"
        }
      ]
    }
  ]
}